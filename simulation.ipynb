{
 "cells": [
  {
   "cell_type": "code",
   "execution_count": 2,
   "metadata": {},
   "outputs": [
    {
     "name": "stdout",
     "output_type": "stream",
     "text": [
      "Notebook initialized with ipy backend.\n"
     ]
    }
   ],
   "source": [
    "from mayavi import mlab\n",
    "mlab.init_notebook('ipy')\n"
   ]
  },
  {
   "cell_type": "code",
   "execution_count": 3,
   "metadata": {},
   "outputs": [
    {
     "name": "stdout",
     "output_type": "stream",
     "text": [
      "gzip was not found on your system! You should solve this issue for astroquery.eso to be at its best!\n",
      "On POSIX system: make sure gzip is installed and in your path!On Windows: same for 7-zip (http://www.7-zip.org)!\n"
     ]
    }
   ],
   "source": [
    "from astropy import time, units as u\n",
    "\n",
    "from mdrs_simulator.analysis import AccessAnalysis\n",
    "from mdrs_simulator.objects import Satellite, Earth, Constellation, SatSet\n",
    "from mdrs_simulator.simulation import Scenario\n",
    "\n",
    "from mayavi import mlab\n",
    "\n",
    "import numpy as np\n"
   ]
  },
  {
   "cell_type": "code",
   "execution_count": 4,
   "metadata": {},
   "outputs": [
    {
     "name": "stdout",
     "output_type": "stream",
     "text": [
      "Initializing object 1 of 1...\n",
      "Initializing 118 satellites...\n"
     ]
    }
   ],
   "source": [
    "## Main script\n",
    "\n",
    "J2019 = time.Time('J2019', scale='tt')\n",
    "\n",
    "fig = mlab.figure(size=(1000, 1000), bgcolor=(1.0, 1.0, 1.0))\n",
    "start = time.Time('2019-09-01 10:00:00.000', scale='tt')\n",
    "stop = time.Time('2019-09-01 12:00:00.000', scale='tt')\n",
    "step = 5 * u.s\n",
    "\n",
    "sat1 = Satellite.circular(Earth, 500 * u.km, inc=90 * u.deg, raan=0 * u.deg, arglat=0 * u.deg)\n",
    "sat1.set_color('#00ffff')\n",
    "\n",
    "scenario = Scenario(Earth, start, stop, step, figure=fig)\n",
    "\n",
    "# Telesat constellation\n",
    "name = \"Telesat\"\n",
    "n_pol_planes = 6\n",
    "pol_set = SatSet.as_set(Earth,\n",
    "                          a=Earth.R_mean + 1000 * u.km, ecc=0 * u.one, inc=99.5 * u.deg,\n",
    "                          rraan=np.array([0, 63.2, 94.8, 126.4, 158.0, 31.6]) * u.deg,\n",
    "                          aargp=np.repeat(0 * u.deg, n_pol_planes),\n",
    "                          nnnu=[np.arange(345, 0, -30) * u.deg] * n_pol_planes)\n",
    "pol_set.set_color(\"#0074D9\")\n",
    "pol_set.set_fov(58.34 * u.deg)\n",
    "\n",
    "n_inc_planes = 5\n",
    "inc_set = SatSet.as_set(Earth,\n",
    "                          a=Earth.R_mean + 1248 * u.km, ecc=0 * u.one, inc=37.4 * u.deg,\n",
    "                          rraan=np.array([0, 36.0, 72.0, 108.0, 144.0]) * u.deg,\n",
    "                          aargp=np.repeat(0 * u.deg, n_inc_planes),\n",
    "                          nnnu=[np.arange(320, -10, -40) * u.deg] * n_inc_planes)\n",
    "inc_set.set_color(\"#FF4136\")\n",
    "inc_set.set_fov(55.43 * u.deg)\n",
    "\n",
    "constellation = Constellation()\n",
    "constellation.append(pol_set)\n",
    "constellation.append(inc_set)\n",
    "\n",
    "# Add objects\n",
    "scenario.add_satellite(sat1)\n",
    "scenario.add_satellite(constellation)\n",
    "\n",
    "# Add analysis\n",
    "an = AccessAnalysis(scenario, sat1, constellation)\n",
    "#scenario.add_analysis(an)\n",
    "\n",
    "scenario.initialize()\n"
   ]
  },
  {
   "cell_type": "code",
   "execution_count": 5,
   "metadata": {},
   "outputs": [
    {
     "name": "stderr",
     "output_type": "stream",
     "text": [
      "C:\\Users\\jjvan\\Anaconda3\\lib\\site-packages\\poliastro\\twobody\\orbit.py:1178: UserWarning: No frame found for attractor Earth (♁), returning only cartesian coordinates instead\n",
      "  f\"No frame found for attractor {self.attractor}, returning only cartesian coordinates instead\"\n"
     ]
    }
   ],
   "source": [
    "scenario.draw_scenario()\n",
    "\n",
    "point = time.Time('2019-09-01 10:14:00.000', scale='tt')\n",
    "scenario.step_to(point, True)\n",
    "\n",
    "# scenario.draw_frame()\n",
    "scenario.step()  # do one step to let numba compile\n",
    "mlab.show()"
   ]
  },
  {
   "cell_type": "code",
   "execution_count": 6,
   "metadata": {},
   "outputs": [
    {
     "data": {
      "application/vnd.jupyter.widget-view+json": {
       "model_id": "b40d36db1f35426cb99f37f404874dd1",
       "version_major": 2,
       "version_minor": 0
      },
      "text/plain": [
       "Image(value=b'\\x89PNG\\r\\n\\x1a\\n\\x00\\x00\\x00\\rIHDR\\x00\\x00\\x03\\xe8\\x00\\x00\\x03\\xe8\\x08\\x02\\x00\\x00\\x00\\xc2\\xc1C…"
      ]
     },
     "metadata": {},
     "output_type": "display_data"
    }
   ],
   "source": [
    "fig = mlab.gcf()\n",
    "fig"
   ]
  },
  {
   "cell_type": "code",
   "execution_count": null,
   "metadata": {},
   "outputs": [],
   "source": [
    "scenario.animate_notebook()"
   ]
  },
  {
   "cell_type": "code",
   "execution_count": null,
   "metadata": {},
   "outputs": [],
   "source": []
  }
 ],
 "metadata": {
  "kernelspec": {
   "display_name": "Python 3",
   "language": "python",
   "name": "python3"
  },
  "language_info": {
   "codemirror_mode": {
    "name": "ipython",
    "version": 3
   },
   "file_extension": ".py",
   "mimetype": "text/x-python",
   "name": "python",
   "nbconvert_exporter": "python",
   "pygments_lexer": "ipython3",
   "version": "3.7.6"
  }
 },
 "nbformat": 4,
 "nbformat_minor": 4
}
